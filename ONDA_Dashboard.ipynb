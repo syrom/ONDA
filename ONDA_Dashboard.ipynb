{
 "cells": [
  {
   "cell_type": "markdown",
   "metadata": {},
   "source": [
    "# ONDA: Organisational Network Discovery & Analysis"
   ]
  },
  {
   "cell_type": "markdown",
   "metadata": {},
   "source": [
    "# 0) Versioning"
   ]
  },
  {
   "cell_type": "markdown",
   "metadata": {},
   "source": [
    "# 1) Package Import"
   ]
  },
  {
   "cell_type": "code",
   "execution_count": 1,
   "metadata": {},
   "outputs": [],
   "source": [
    "from jupyter_dash import JupyterDash\n",
    "import dash\n",
    "import dash_bootstrap_components as dbc\n",
    "import dash_core_components as dcc\n",
    "import dash_html_components as html"
   ]
  },
  {
   "cell_type": "code",
   "execution_count": 2,
   "metadata": {},
   "outputs": [],
   "source": [
    "import networkx as nx\n",
    "import plotly.graph_objs as go\n",
    "import pandas as pd\n",
    "from colour import Color"
   ]
  },
  {
   "cell_type": "markdown",
   "metadata": {},
   "source": [
    "# 2) Variable declartations (global)"
   ]
  },
  {
   "cell_type": "code",
   "execution_count": 3,
   "metadata": {},
   "outputs": [],
   "source": [
    "new_line = '\\n'"
   ]
  },
  {
   "cell_type": "markdown",
   "metadata": {},
   "source": [
    "# 3) Definitions"
   ]
  },
  {
   "cell_type": "markdown",
   "metadata": {},
   "source": [
    "## 3a) Class definitions"
   ]
  },
  {
   "cell_type": "code",
   "execution_count": null,
   "metadata": {},
   "outputs": [],
   "source": []
  },
  {
   "cell_type": "markdown",
   "metadata": {},
   "source": [
    "## 3b) Function Definitions"
   ]
  },
  {
   "cell_type": "code",
   "execution_count": 4,
   "metadata": {},
   "outputs": [],
   "source": [
    "def f_define_plot(nodes_data, edges_data, cl_node_description, cl_node_org, cl_node_type):\n",
    "## Step1: Filter data frame down to the desired data (aka nodes)\n",
    "\n",
    "    # BEFORE FIRST QUERY !!!! Otherwise problem thru C and P values in Orga-field, filtering out these nodes\n",
    "    # as prepartation for check in loop, further extend list with all nodes in the aux_set1 which have node_org that is NOT in the criterium list\n",
    "    cl_node_org_extended = cl_node_org + ['C', 'P'] # Criterium List must be extended by acronyms for comptence and project as they CAN potentially be\n",
    "                                                    # included in the node_type criterium list and would erroneously be filtered out again here\n",
    "    # add 'H' (Hierarchy) in any case to the list of selected node types; otherwise, pure setting to Project or Competence do not trace back\n",
    "    # to the individuals represented in the H-entries\n",
    "    if 'H' not in cl_node_type:\n",
    "        cl_node_type.append('H')    \n",
    "    # define query string\n",
    "    s_query = 'NODE_TYPE in @cl_node_type and NODE_DESC in @cl_node_description and NODE_ORG in @cl_node_org_extended'\n",
    "    df_nodes_filtered = df_nodes.query(s_query)\n",
    "\n",
    "    l_nodes_aux1 = df_nodes_filtered.NODES.to_list()\n",
    "\n",
    "    # Creating a set of edges where either SOURCE or TARGET node is equal to filtered nodes:\n",
    "    # CAUTION: This set can still contain nodes that GO BEYOND THE FILTER CRITERIA  defined in the node types list\n",
    "    # as ANY edge leading to one of the filtered nodes qualifies a non-filtered node to enter the set\n",
    "    aux_set1 = set()\n",
    "    for index in range(0,len(df_edges)):\n",
    "        if (df_edges['SOURCE'][index] in l_nodes_aux1 or df_edges['TARGET'][index] in l_nodes_aux1):\n",
    "            aux_set1.add(df_edges['SOURCE'][index])\n",
    "            aux_set1.add(df_edges['TARGET'][index])\n",
    "\n",
    "    # Determine which edges and nodes qualifiy to be represented in the graph according to the settings.\n",
    "    # Cleaning the set from all nodes that have a node type or belong to an organisation other than those defined in the node type and node orga filter list:\n",
    "    # as prepartation for check in loop, further extend list with all nodes in the aux_set1 which have node_org that is NOT in the criterium list\n",
    "    # create a list with all nodes in the aux_set1 which have node class or ORG that is NOT in the criterium list\n",
    "    l_aux = []\n",
    "    for i in aux_set1:\n",
    "        if df_nodes.query('NODES == @i').empty:\n",
    "            continue\n",
    "        else:\n",
    "            if df_nodes.query('NODES == @i').iloc[0].NODE_DESC not in cl_node_description:\n",
    "                l_aux.append(i)\n",
    "            if df_nodes.query('NODES == @i').iloc[0].NODE_ORG not in cl_node_org_extended:\n",
    "                l_aux.append(i)\n",
    "\n",
    "    # cycle thru the list and remove these \"unqualified\" nodes from the set\n",
    "    for i in l_aux:\n",
    "        aux_set1.remove(i)\n",
    "    aux_set1 # Now only contains nodes as definded by the filter criterium lists\n",
    "\n",
    "    # define a dfs with all edges and nodes that are to be visualized\n",
    "    # The difference vs. the \"filtered\" list is that this df also contains nodes that the filtered nodes connect to but which, otherwise, correspond\n",
    "    # to the filter criteria\n",
    "    # edges are more complicated, as they may contain unwanted elements, either as SOURCE or TARGET\n",
    "    df_edges_graph =df_edges[(df_edges.SOURCE.isin(aux_set1) | df_edges.TARGET.isin(aux_set1)) & df_edges.TYPE.isin(cl_node_type)]\n",
    "    aux_set_source = {nodes for nodes in df_edges_graph.SOURCE}\n",
    "    aux_set_target = {nodes for nodes in df_edges_graph.TARGET}\n",
    "    # combinining the two sets, containing all nodes that were in the filtered df_edge_graph\n",
    "    aux_set2 = aux_set_source | aux_set_target\n",
    "\n",
    "    # create the difference between the two sets: result shows again potentially \"undesirable\" nodes\n",
    "    aux_set3 = aux_set2 - aux_set1\n",
    "\n",
    "    # finally, we must differentiate: nodes on the H-Level should be included (showing persons that other persons corresponding to \n",
    "    # the filter criterium are connected to. Those, we do want to see - but not Projects or Competences that are not explicitly\n",
    "    # mentioned in the filter criteria\n",
    "    # Determining which nodes from aux_set3 are NOT Hierarchy elements:\n",
    "    l_aux = []\n",
    "    for i in aux_set3:\n",
    "        if df_nodes.query('NODES == @i').empty:\n",
    "            continue\n",
    "        else:\n",
    "            if df_nodes.query('NODES == @i').iloc[0].NODE_TYPE == 'H':\n",
    "                l_aux.append(i)\n",
    "    # cycle thru the list and remove these \"unqualified\" nodes from the set\n",
    "    for i in l_aux:\n",
    "        aux_set3.remove(i) \n",
    "\n",
    "    # using aux_set3 now to remove any row from the edges-df which contains the undesirable nodes, either as Source or as Target\n",
    "    df_edges_graph = df_edges_graph[~df_edges_graph.SOURCE.isin(aux_set3)]\n",
    "    df_edges_graph = df_edges_graph[~df_edges_graph.TARGET.isin(aux_set3)]\n",
    "\n",
    "    # now for the df for all nodes that should appear in the graph:\n",
    "    # As we have treated H and P/C-nodes differently if they have entered as source or target of one of the selected nodes,\n",
    "    # we also must update the set used to filter the node-df: aux_set2 may contain more H-nodes, e.g. additional sources or targets.\n",
    "    aux_set4 = aux_set2 - aux_set3\n",
    "    df_nodes_graph = df_nodes[df_nodes.NODES.isin(aux_set4)]\n",
    "    \n",
    "\n",
    "## Step 2: Building Network using NetworkX\n",
    "    # The network (G-object) is initially build with the FILTERED edge and node information  \n",
    "\n",
    "    #############################################################################################################________________________________\n",
    "    G = nx.from_pandas_edgelist(df_edges_graph, 'SOURCE', 'TARGET', ['SOURCE','TARGET', 'VALUE', 'TYPE', 'DPMT'], create_using=nx.MultiDiGraph())\n",
    "    #############################################################################################################________________________________\n",
    "\n",
    "    # Workaround to the indexing problem with the NODES-column: copy the NODES name information to a column with a new name, allowing to serve the \n",
    "    # original column as index\n",
    "    df_nodes_graph['aux_name'] = df_nodes_graph['NODES']\n",
    "\n",
    "    # setting several node attributes (to be used as hovertext-info when hovering the mouse over the node in the graph)\n",
    "    nx.set_node_attributes(G, df_nodes_graph.set_index('NODES')['aux_name'].to_dict(), 'NODE_NAME')\n",
    "    nx.set_node_attributes(G, df_nodes_graph.set_index('NODES')['NODE_TYPE'].to_dict(), 'NODE_TYPE')\n",
    "    nx.set_node_attributes(G, df_nodes_graph.set_index('NODES')['NODE_DESC'].to_dict(), 'NODE_DESC')\n",
    "    nx.set_node_attributes(G, df_nodes_graph.set_index('NODES')['NODE_ORG'].to_dict(), 'NODE_ORG')\n",
    "\n",
    "    # Determine 'look' of the graph\n",
    "    ################################\n",
    "    pos = nx.layout.spring_layout(G)\n",
    "    ################################\n",
    "\n",
    "    # feed positioning info derived from the layout-method to the graph nodes\n",
    "    for node in G.nodes:\n",
    "        G.nodes[node]['pos'] = list(pos[node])\n",
    "\n",
    "## Step3: Define \"trace\" of nodes for the plotly object\n",
    "    traceRecode = []\n",
    "\n",
    "    ### Setting up the the basic structure of the Scatter object\n",
    "    ### The initially empty lists from the initialization will be successively filled !!!\n",
    "    node_trace = go.Scatter(x=[], y=[], hovertext=[], text=[], mode='markers+text', textposition=\"middle center\",\n",
    "        hoverinfo=\"text\", marker={'size': 30})   \n",
    "    #    hoverinfo=\"text\", marker={'size': 50, 'color': 'LightSkyBlue'})                                            # further room to experiment with network look\n",
    "\n",
    "    index = 0\n",
    "    for node in G.nodes():\n",
    "        x, y = G.nodes[node]['pos']\n",
    "        hovertext = \"NODE_NAME: \" + str(G.nodes[node]['NODE_NAME']) + \"<br>\" + \"NODE_DESC: \" + str(G.nodes[node]['NODE_DESC']\n",
    "            ) + \"<br>\" + \"NODE_TYPE: \" + str(G.nodes[node]['NODE_TYPE']) + \"<br>\" + \"NODE_ORG: \" + str(G.nodes[node]['NODE_ORG'])\n",
    "        text = G.nodes[node]['NODE_NAME']\n",
    "        node_trace['x'] += tuple([x])\n",
    "        node_trace['y'] += tuple([y])\n",
    "        node_trace['hovertext'] += tuple([hovertext])\n",
    "        node_trace['text'] += tuple([text])\n",
    "        index = index + 1\n",
    "    ### appending color info for nodes\n",
    "    ### Probably 10.000 ways to do this more intelligently, e.g. via\n",
    "    ### a) integrating this step in the loop above or\n",
    "    ### b) using a predefined dictionary to map colors (with \"red\" as default value)\n",
    "    l_node_color = []\n",
    "    for node in G.nodes():\n",
    "        if G.nodes[node]['NODE_TYPE'] == \"H\":\n",
    "            node_color = \"grey\"\n",
    "        elif G.nodes[node]['NODE_TYPE'] == \"P\":\n",
    "            node_color = \"blue\"\n",
    "        elif G.nodes[node]['NODE_TYPE'] == \"C\":\n",
    "            node_color = \"green\"\n",
    "        else:\n",
    "            node_color = \"red\"\n",
    "        l_node_color.append(node_color)\n",
    "    node_trace.marker.color = l_node_color\n",
    "\n",
    "    traceRecode.append(node_trace)\n",
    "\n",
    "## Step 4: Define \"trace\" of edges for the plotly object\n",
    "    colors = ['black']\n",
    "    index = 0\n",
    "    for edge in G.edges:\n",
    "        x0, y0 = G.nodes[edge[0]]['pos']\n",
    "        x1, y1 = G.nodes[edge[1]]['pos']\n",
    "        weight = float(G.edges[edge]['VALUE'])    # Could also be e.g. \"LEVEL\"\n",
    "        trace = go.Scatter(x=tuple([x0, x1, None]), y=tuple([y0, y1, None]),\n",
    "                           mode='lines',\n",
    "                           line={'width': weight},\n",
    "                           marker=dict(color=colors),\n",
    "                           line_shape='spline',\n",
    "                           opacity=1)\n",
    "        traceRecode.append(trace)\n",
    "        index = index + 1\n",
    "\n",
    "## Step5: Define layout for Plotly graph\n",
    "    figure = go.Figure(\n",
    "        data = traceRecode,\n",
    "        layout = go.Layout(showlegend=False, hovermode='closest',\n",
    "                    margin={'b': 4, 'l': 4, 'r': 4, 't': 4},\n",
    "                    xaxis={'showgrid': False, 'zeroline': False, 'showticklabels': False},\n",
    "                    yaxis={'showgrid': False, 'zeroline': False, 'showticklabels': False},\n",
    "                    height=800,\n",
    "                    clickmode='event+select'\n",
    "                    ))\n",
    "    return figure"
   ]
  },
  {
   "cell_type": "markdown",
   "metadata": {},
   "source": [
    "# 4) Actual Program"
   ]
  },
  {
   "cell_type": "markdown",
   "metadata": {},
   "source": [
    "## 4a) Data Import"
   ]
  },
  {
   "cell_type": "code",
   "execution_count": 5,
   "metadata": {},
   "outputs": [],
   "source": [
    "#df_nodes = pd.read_csv('https://plotly.github.io/datasets/country_indicators.csv')\n",
    "df_nodes = pd.read_csv(r'nodes.csv', sep=';')\n",
    "df_edges = pd.read_csv(r'edges.csv', sep=';')"
   ]
  },
  {
   "cell_type": "markdown",
   "metadata": {},
   "source": [
    "## 4b) Instantiate initial values for the graph settings"
   ]
  },
  {
   "cell_type": "code",
   "execution_count": 6,
   "metadata": {},
   "outputs": [],
   "source": [
    "l_initial_node_type = ['H']\n",
    "\n",
    "l_initial_node_desc = ['H_GA']\n",
    "\n",
    "l_initial_org = df_nodes['NODE_ORG'].unique().tolist()\n",
    "l_initial_org.remove('C')   # Competences must be removed from ORG list\n",
    "l_initial_org.remove('P')   # Projects must be removed from ORG list\n",
    "# C and P could cause confusion; they are added back in the filtering for the graph, as these nodes (and edges eminating from them)\n",
    "# are independent from the ORG unit. Or, in other word: Projects and Competences are independent of any ORG units\n",
    "#l_initial_org"
   ]
  },
  {
   "cell_type": "markdown",
   "metadata": {},
   "source": [
    "## 4c) Building the dashboard layout"
   ]
  },
  {
   "cell_type": "code",
   "execution_count": 7,
   "metadata": {},
   "outputs": [],
   "source": [
    "# app = JupyterDash(__name__, external_stylesheets=[dbc.themes.BOOTSTRAP])\n",
    "app = JupyterDash(__name__, external_stylesheets=[dbc.themes.LUX])  # easy to change overall look - just try out other themes"
   ]
  },
  {
   "cell_type": "code",
   "execution_count": 8,
   "metadata": {},
   "outputs": [],
   "source": [
    " body = html.Div([\n",
    "    html.H1(\"ONDA: Organisational Network Discovery and Analysis\")\n",
    "        \n",
    "    , dbc.Row([dbc.Col(html.Div([dbc.Label(\"Displayed the following Node Types\"),dbc.Checklist(options=[{\"label\": \"Hierarchy\", \"value\": \"H\" },\n",
    "     {\"label\": \"Projects\", \"value\": \"P\"},{\"label\": \"Competences\", \"value\": \"C\"}], value=[\"H\"], id=\"f_select_node_type\", inline=True, switch=True,),]),width=4)\n",
    "    , dbc.Col(html.Div([dbc.Label(\"Display the Nodes for the following organizational units: \"),\n",
    "                        dcc.Dropdown(options=[{'label': i, 'value': i} for i in l_initial_org], value = l_initial_org,\n",
    "                                     id = 'f_select_org',multi=True)]), width=4)])\n",
    "\n",
    "    , dbc.Row(dbc.Col(html.Div(dbc.Progress(value=100, color=\"info\"))))  # Progress bar \"perverted\" to horizontal divider / ruler\n",
    "        \n",
    "    , dbc.Row(dbc.Col(html.Div([dbc.Label(\"Display the following Node Classes\"),\n",
    "                        dcc.Dropdown(options=[{'label': i, 'value': i} for i in l_initial_node_desc], placeholder = 'Select from the Node Classes (options depending on selected Node Type(s)', value = l_initial_node_desc,\n",
    "                                     id = 'f_select_node_class',multi=True)])))    \n",
    " \n",
    "    , dbc.Row(dbc.Col(html.Div(dbc.Progress(value=100, color=\"info\"))))  # Progress bar \"perverted\" to horizontal divider / ruler\n",
    "\n",
    "    ####################################################################################################################################### graph component\n",
    "    , dbc.Row(dbc.Col(html.Div(dcc.Graph(id=\"ONDA\", figure=f_define_plot(df_nodes, df_edges, l_initial_node_type, l_initial_node_desc, l_initial_org)))))\n",
    "    #######################################################################################################################################\n",
    "    ])"
   ]
  },
  {
   "cell_type": "markdown",
   "metadata": {},
   "source": [
    "## 4d) define the callback functions for the interactive graph input components"
   ]
  },
  {
   "cell_type": "code",
   "execution_count": 9,
   "metadata": {},
   "outputs": [],
   "source": [
    "# actually productive code: pushing the change in the network_type selection to trigger\n",
    "# a corresponding change in the targets selection (only targets shown which have belong to the chosen network type(s)\n",
    "@app.callback(\n",
    "    dash.dependencies.Output(component_id='f_select_node_class', component_property='options'),        # component_property changed from \"children\"\n",
    "    [dash.dependencies.Input(component_id='f_select_node_type', component_property='value')])\n",
    "def update_node_classes(f_select_node_type):\n",
    "    current_node_type = f_select_node_type\n",
    "    df_aux = df_nodes[df_nodes.NODE_TYPE.isin(current_node_type)]\n",
    "    return [{'label': i, 'value': i} for i in df_aux.NODE_DESC.unique()]"
   ]
  },
  {
   "cell_type": "code",
   "execution_count": 10,
   "metadata": {},
   "outputs": [],
   "source": [
    "###################################callback for actual graph update\n",
    "@app.callback(\n",
    "    dash.dependencies.Output('ONDA', 'figure'),\n",
    "    [dash.dependencies.Input('f_select_node_class', 'value'), dash.dependencies.Input('f_select_org', 'value')])\n",
    "\n",
    "def update_output (f_class, f_org):\n",
    "#    nodes_data = df_nodes\n",
    "#    edges_data = df_edges\n",
    "    cl_node_description = f_class\n",
    "    cl_node_org = f_org\n",
    "    ################## node-types to be displayed not dynamically updated from selector switch, but derived from the current node-class selection !\n",
    "    aux_set2 = set()\n",
    "    for node_class in cl_node_description:\n",
    "        if df_nodes.query('NODE_DESC == @node_class').empty:\n",
    "            continue\n",
    "        else:\n",
    "            aux_set2.add(df_nodes.query('NODE_DESC == @node_class').iloc[0].NODE_TYPE)\n",
    "    cl_node_type = list(aux_set2)\n",
    "    ##################\n",
    "    return f_define_plot(df_nodes, df_edges, cl_node_description, cl_node_org, cl_node_type)\n"
   ]
  },
  {
   "cell_type": "markdown",
   "metadata": {},
   "source": [
    "## 4e) Run the dashboard"
   ]
  },
  {
   "cell_type": "code",
   "execution_count": 11,
   "metadata": {},
   "outputs": [],
   "source": [
    "app.layout = html.Div([body])"
   ]
  },
  {
   "cell_type": "code",
   "execution_count": 12,
   "metadata": {},
   "outputs": [],
   "source": [
    "# app.run_server(debug = True)\n",
    "app.run_server(mode=\"jupyterlab\", debug = True)\n",
    "# if __name__ == \"__main__\":\n",
    "#    app.run_server(debug = True)"
   ]
  },
  {
   "cell_type": "code",
   "execution_count": 14,
   "metadata": {},
   "outputs": [
    {
     "name": "stderr",
     "output_type": "stream",
     "text": [
      "/home/ulf/anaconda3/envs/ds_xp_20/lib/python3.8/site-packages/jupyter_dash/jupyter_app.py:139: UserWarning:\n",
      "\n",
      "The 'environ['werkzeug.server.shutdown']' function is deprecated and will be removed in Werkzeug 2.1.\n",
      "\n"
     ]
    }
   ],
   "source": [
    "# Line to terminate DASH-dashboard in tab:\n",
    "# app._terminate_server_for_port(\"localhost\", 8050) "
   ]
  },
  {
   "cell_type": "code",
   "execution_count": null,
   "metadata": {},
   "outputs": [],
   "source": []
  },
  {
   "cell_type": "code",
   "execution_count": null,
   "metadata": {},
   "outputs": [],
   "source": []
  },
  {
   "cell_type": "code",
   "execution_count": null,
   "metadata": {},
   "outputs": [],
   "source": []
  },
  {
   "cell_type": "code",
   "execution_count": null,
   "metadata": {},
   "outputs": [],
   "source": []
  },
  {
   "cell_type": "code",
   "execution_count": null,
   "metadata": {},
   "outputs": [],
   "source": []
  }
 ],
 "metadata": {
  "kernelspec": {
   "display_name": "ds_xp_20",
   "language": "python",
   "name": "ds_xp_20"
  },
  "language_info": {
   "codemirror_mode": {
    "name": "ipython",
    "version": 3
   },
   "file_extension": ".py",
   "mimetype": "text/x-python",
   "name": "python",
   "nbconvert_exporter": "python",
   "pygments_lexer": "ipython3",
   "version": "3.8.11"
  }
 },
 "nbformat": 4,
 "nbformat_minor": 4
}
